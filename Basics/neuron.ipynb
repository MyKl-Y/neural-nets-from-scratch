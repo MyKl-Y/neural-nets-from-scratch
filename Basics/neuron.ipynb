{
 "cells": [
  {
   "cell_type": "code",
   "execution_count": 1,
   "metadata": {},
   "outputs": [],
   "source": [
    "import numpy as np"
   ]
  },
  {
   "cell_type": "code",
   "execution_count": 2,
   "metadata": {},
   "outputs": [],
   "source": [
    "def sigmoid(x):\n",
    "\t# Our activation function: f(x) = 1 / (1 + e^(-x))\n",
    "\treturn 1 / (1 + np.exp(-x))"
   ]
  },
  {
   "cell_type": "code",
   "execution_count": 3,
   "metadata": {},
   "outputs": [],
   "source": [
    "class Neuron:\n",
    "\tdef __init__(self, weights, bias):\n",
    "\t\tself.weights = weights\n",
    "\t\tself.bias = bias\n",
    "\n",
    "\tdef feedforward(self, inputs):\n",
    "\t\t# Weight inputs, add bias, \n",
    "\t\t# then use the activation function\n",
    "\t\ttotal = np.dot(self.weights, inputs) + self.bias\n",
    "\t\treturn sigmoid(total)"
   ]
  },
  {
   "cell_type": "code",
   "execution_count": 4,
   "metadata": {},
   "outputs": [],
   "source": [
    "weights = np.array([0, 1])\t# w1 = 0, w2 = 1\n",
    "bias = 4\t\t\t\t\t# b = 4\n",
    "n = Neuron(weights, bias)"
   ]
  },
  {
   "cell_type": "code",
   "execution_count": 5,
   "metadata": {},
   "outputs": [
    {
     "name": "stdout",
     "output_type": "stream",
     "text": [
      "0.9990889488055994\n"
     ]
    }
   ],
   "source": [
    "x = np.array([2, 3]) \t\t# x1 = 2, x2 = 3\n",
    "print(n.feedforward(x))\t\t# 0.9990889488055994"
   ]
  }
 ],
 "metadata": {
  "kernelspec": {
   "display_name": ".venv",
   "language": "python",
   "name": "python3"
  },
  "language_info": {
   "codemirror_mode": {
    "name": "ipython",
    "version": 3
   },
   "file_extension": ".py",
   "mimetype": "text/x-python",
   "name": "python",
   "nbconvert_exporter": "python",
   "pygments_lexer": "ipython3",
   "version": "3.12.3"
  }
 },
 "nbformat": 4,
 "nbformat_minor": 2
}
